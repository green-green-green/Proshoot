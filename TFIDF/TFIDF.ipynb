{
 "cells": [
  {
   "cell_type": "markdown",
   "metadata": {},
   "source": [
    "Wikipedia IT企業5社の重要単語を求める  \n",
    "企業 サイバーエージェント, メルカリ, Google, グノシー, DeNA"
   ]
  },
  {
   "cell_type": "markdown",
   "metadata": {},
   "source": [
    "記事を収集"
   ]
  },
  {
   "cell_type": "markdown",
   "metadata": {},
   "source": [
    "クローラ"
   ]
  },
  {
   "cell_type": "code",
   "execution_count": 91,
   "metadata": {},
   "outputs": [],
   "source": [
    "from bs4 import BeautifulSoup\n",
    "import urllib3\n",
    "import certifi\n",
    "import lxml\n",
    "import time\n",
    "from tqdm import tqdm\n",
    "import csv\n",
    "import re"
   ]
  },
  {
   "cell_type": "code",
   "execution_count": 4,
   "metadata": {},
   "outputs": [],
   "source": [
    "def get_soup(url):\n",
    "    http = urllib3.PoolManager(\n",
    "        cert_reqs='CERT_REQUIRED',\n",
    "        ca_certs=certifi.where())\n",
    "    r = http.request('GET', url)\n",
    "    return BeautifulSoup(r.data, 'lxml')"
   ]
  },
  {
   "cell_type": "code",
   "execution_count": 7,
   "metadata": {},
   "outputs": [],
   "source": [
    "soup_ca = get_soup('https://ja.wikipedia.org/wiki/%E3%82%B5%E3%82%A4%E3%83%90%E3%83%BC%E3%82%A8%E3%83%BC%E3%82%B8%E3%82%A7%E3%83%B3%E3%83%88')\n",
    "soup_gn = get_soup('https://ja.wikipedia.org/wiki/%E3%82%B0%E3%83%8E%E3%82%B7%E3%83%BC')\n",
    "soup_gg = get_soup('https://ja.wikipedia.org/wiki/Google')\n",
    "soup_dn = get_soup('https://ja.wikipedia.org/wiki/%E3%83%87%E3%82%A3%E3%83%BC%E3%83%BB%E3%82%A8%E3%83%8C%E3%83%BB%E3%82%A8%E3%83%BC')\n",
    "soup_mr = get_soup('https://ja.wikipedia.org/wiki/%E3%83%A1%E3%83%AB%E3%82%AB%E3%83%AA')"
   ]
  },
  {
   "cell_type": "markdown",
   "metadata": {},
   "source": [
    "本文日本語抽出"
   ]
  },
  {
   "cell_type": "code",
   "execution_count": 206,
   "metadata": {},
   "outputs": [],
   "source": [
    "def extract_jp_from_soup(soup):\n",
    "    return re.sub(r'[^あ-ん ｱ-ﾝ ア-ン 一-龥 ー ]', '', str(soup))\n",
    "\n",
    "def remove_docname(name, text):\n",
    "    return text.replace(name,'')\n",
    "\n",
    "text_ca = extract_jp_from_soup(soup_ca)\n",
    "text_gn = extract_jp_from_soup(soup_gn)\n",
    "text_gg = extract_jp_from_soup(soup_gg)\n",
    "text_dn = extract_jp_from_soup(soup_dn)\n",
    "text_mr = extract_jp_from_soup(soup_mr)\n",
    "\n",
    "text_ca = remove_docname('サイバーエージェント',text_ca)\n",
    "text_gn = remove_docname('グノシー',text_gn)\n",
    "text_gg = remove_docname('グーグル',text_gg)\n",
    "text_dn = remove_docname('ディー・エヌ・エー',text_dn)\n",
    "text_mr = remove_docname('メルカリ',text_mr)"
   ]
  },
  {
   "cell_type": "markdown",
   "metadata": {},
   "source": [
    "MECAB"
   ]
  },
  {
   "cell_type": "code",
   "execution_count": 88,
   "metadata": {},
   "outputs": [],
   "source": [
    "import MeCab"
   ]
  },
  {
   "cell_type": "code",
   "execution_count": 207,
   "metadata": {},
   "outputs": [],
   "source": [
    "mecab = MeCab.Tagger('-Owakati')"
   ]
  },
  {
   "cell_type": "code",
   "execution_count": 208,
   "metadata": {},
   "outputs": [],
   "source": [
    "parsed_text_ca = mecab.parse(text_ca)\n",
    "parsed_text_gn = mecab.parse(text_gn)\n",
    "parsed_text_gg = mecab.parse(text_gg)\n",
    "parsed_text_dn = mecab.parse(text_dn)\n",
    "parsed_text_mr = mecab.parse(text_mr)"
   ]
  },
  {
   "cell_type": "markdown",
   "metadata": {},
   "source": [
    "TFIDF"
   ]
  },
  {
   "cell_type": "code",
   "execution_count": 160,
   "metadata": {},
   "outputs": [],
   "source": [
    "from sklearn.feature_extraction.text import TfidfVectorizer"
   ]
  },
  {
   "cell_type": "code",
   "execution_count": 225,
   "metadata": {},
   "outputs": [],
   "source": [
    "vectorizer = TfidfVectorizer(min_df=1, max_df=3)"
   ]
  },
  {
   "cell_type": "code",
   "execution_count": 226,
   "metadata": {},
   "outputs": [],
   "source": [
    "corpus = [parsed_text_ca,parsed_text_gn,parsed_text_gg,parsed_text_dn,parsed_text_mr]\n",
    "X = vectorizer.fit_transform(corpus)"
   ]
  },
  {
   "cell_type": "code",
   "execution_count": 227,
   "metadata": {},
   "outputs": [],
   "source": [
    "terms = vectorizer.get_feature_names()"
   ]
  },
  {
   "cell_type": "code",
   "execution_count": 228,
   "metadata": {},
   "outputs": [],
   "source": [
    "tfidfs = X.toarray()"
   ]
  },
  {
   "cell_type": "code",
   "execution_count": 229,
   "metadata": {},
   "outputs": [
    {
     "data": {
      "text/plain": [
       "(5, 3818)"
      ]
     },
     "execution_count": 229,
     "metadata": {},
     "output_type": "execute_result"
    }
   ],
   "source": [
    "tfidfs.shape"
   ]
  },
  {
   "cell_type": "markdown",
   "metadata": {},
   "source": [
    "データフレーム"
   ]
  },
  {
   "cell_type": "code",
   "execution_count": 176,
   "metadata": {},
   "outputs": [],
   "source": [
    "import pandas as pd\n",
    "from IPython.display import display"
   ]
  },
  {
   "cell_type": "code",
   "execution_count": 230,
   "metadata": {},
   "outputs": [],
   "source": [
    "df = pd.DataFrame({'terms':terms, 'サイバーエージェント': tfidfs[0], 'グノシー': tfidfs[1], 'グーグル':tfidfs[2], 'ディー・エヌ・エー':tfidfs[3], 'メルカリ':tfidfs[4]})"
   ]
  },
  {
   "cell_type": "code",
   "execution_count": 231,
   "metadata": {},
   "outputs": [
    {
     "data": {
      "text/plain": [
       "'サイバーエージェント'"
      ]
     },
     "metadata": {},
     "output_type": "display_data"
    },
    {
     "data": {
      "text/plain": [
       "2131    合併\n",
       "2444    平成\n",
       "2162    吸収\n",
       "2333    学校\n",
       "2031    動画\n",
       "Name: terms, dtype: object"
      ]
     },
     "metadata": {},
     "output_type": "display_data"
    },
    {
     "data": {
      "text/plain": [
       "'グノシー'"
      ]
     },
     "metadata": {},
     "output_type": "display_data"
    },
    {
     "data": {
      "text/plain": [
       "2857        東洋\n",
       "2200        四季\n",
       "2881        業績\n",
       "946     ダイヤモンド\n",
       "3196        福島\n",
       "Name: terms, dtype: object"
      ]
     },
     "metadata": {},
     "output_type": "display_data"
    },
    {
     "data": {
      "text/plain": [
       "'グーグル'"
      ]
     },
     "metadata": {},
     "output_type": "display_data"
    },
    {
     "data": {
      "text/plain": [
       "3526     買収\n",
       "1056     ドル\n",
       "2698     政府\n",
       "3348     英語\n",
       "3496    識別子\n",
       "Name: terms, dtype: object"
      ]
     },
     "metadata": {},
     "output_type": "display_data"
    },
    {
     "data": {
      "text/plain": [
       "'ディー・エヌ・エー'"
      ]
     },
     "metadata": {},
     "output_type": "display_data"
    },
    {
     "data": {
      "text/plain": [
       "2060          南場\n",
       "2333          学校\n",
       "2897    横浜ベイスターズ\n",
       "2895          横浜\n",
       "2780          智子\n",
       "Name: terms, dtype: object"
      ]
     },
     "metadata": {},
     "output_type": "display_data"
    },
    {
     "data": {
      "text/plain": [
       "'メルカリ'"
      ]
     },
     "metadata": {},
     "output_type": "display_data"
    },
    {
     "data": {
      "text/plain": [
       "1954        出品\n",
       "2185        商品\n",
       "3054        現金\n",
       "1236    フリマアプリ\n",
       "1028      トラブル\n",
       "Name: terms, dtype: object"
      ]
     },
     "metadata": {},
     "output_type": "display_data"
    }
   ],
   "source": [
    "def display_top_k_words(doc, k, df):\n",
    "    df = df.sort_values(doc, ascending=False)\n",
    "    display(doc, df['terms'].iloc[:k])\n",
    "display_top_k_words('サイバーエージェント', 5, df)\n",
    "display_top_k_words('グノシー', 5, df)\n",
    "display_top_k_words('グーグル', 5, df)\n",
    "display_top_k_words('ディー・エヌ・エー', 5, df)\n",
    "display_top_k_words('メルカリ', 5, df)\n"
   ]
  },
  {
   "cell_type": "code",
   "execution_count": null,
   "metadata": {},
   "outputs": [],
   "source": []
  }
 ],
 "metadata": {
  "kernelspec": {
   "display_name": "Python 3",
   "language": "python",
   "name": "python3"
  },
  "language_info": {
   "codemirror_mode": {
    "name": "ipython",
    "version": 3
   },
   "file_extension": ".py",
   "mimetype": "text/x-python",
   "name": "python",
   "nbconvert_exporter": "python",
   "pygments_lexer": "ipython3",
   "version": "3.7.3"
  }
 },
 "nbformat": 4,
 "nbformat_minor": 2
}
